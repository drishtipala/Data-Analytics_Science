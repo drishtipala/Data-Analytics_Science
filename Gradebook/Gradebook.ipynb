{
 "cells": [
  {
   "cell_type": "code",
   "execution_count": 1,
   "id": "ea589fb2",
   "metadata": {},
   "outputs": [],
   "source": [
    "import pandas as pd"
   ]
  },
  {
   "cell_type": "code",
   "execution_count": 3,
   "id": "333adda1",
   "metadata": {},
   "outputs": [
    {
     "data": {
      "text/html": [
       "<div>\n",
       "<style scoped>\n",
       "    .dataframe tbody tr th:only-of-type {\n",
       "        vertical-align: middle;\n",
       "    }\n",
       "\n",
       "    .dataframe tbody tr th {\n",
       "        vertical-align: top;\n",
       "    }\n",
       "\n",
       "    .dataframe thead th {\n",
       "        text-align: right;\n",
       "    }\n",
       "</style>\n",
       "<table border=\"1\" class=\"dataframe\">\n",
       "  <thead>\n",
       "    <tr style=\"text-align: right;\">\n",
       "      <th></th>\n",
       "      <th>id</th>\n",
       "      <th>Name</th>\n",
       "      <th>Gender</th>\n",
       "      <th>Age</th>\n",
       "      <th>Section</th>\n",
       "      <th>Science</th>\n",
       "      <th>English</th>\n",
       "      <th>History</th>\n",
       "      <th>Maths</th>\n",
       "    </tr>\n",
       "  </thead>\n",
       "  <tbody>\n",
       "    <tr>\n",
       "      <th>0</th>\n",
       "      <td>1</td>\n",
       "      <td>Bronnie</td>\n",
       "      <td>Female</td>\n",
       "      <td>13</td>\n",
       "      <td>C</td>\n",
       "      <td>21</td>\n",
       "      <td>81</td>\n",
       "      <td>62</td>\n",
       "      <td>49</td>\n",
       "    </tr>\n",
       "    <tr>\n",
       "      <th>1</th>\n",
       "      <td>2</td>\n",
       "      <td>Lemmie</td>\n",
       "      <td>Male</td>\n",
       "      <td>15</td>\n",
       "      <td>B</td>\n",
       "      <td>29</td>\n",
       "      <td>41</td>\n",
       "      <td>17</td>\n",
       "      <td>40</td>\n",
       "    </tr>\n",
       "    <tr>\n",
       "      <th>2</th>\n",
       "      <td>3</td>\n",
       "      <td>Danya</td>\n",
       "      <td>Female</td>\n",
       "      <td>14</td>\n",
       "      <td>C</td>\n",
       "      <td>12</td>\n",
       "      <td>87</td>\n",
       "      <td>16</td>\n",
       "      <td>96</td>\n",
       "    </tr>\n",
       "    <tr>\n",
       "      <th>3</th>\n",
       "      <td>4</td>\n",
       "      <td>Denna</td>\n",
       "      <td>Female</td>\n",
       "      <td>14</td>\n",
       "      <td>B</td>\n",
       "      <td>15</td>\n",
       "      <td>53</td>\n",
       "      <td>82</td>\n",
       "      <td>33</td>\n",
       "    </tr>\n",
       "    <tr>\n",
       "      <th>4</th>\n",
       "      <td>5</td>\n",
       "      <td>Jocelin</td>\n",
       "      <td>Male</td>\n",
       "      <td>14</td>\n",
       "      <td>A</td>\n",
       "      <td>43</td>\n",
       "      <td>6</td>\n",
       "      <td>3</td>\n",
       "      <td>21</td>\n",
       "    </tr>\n",
       "  </tbody>\n",
       "</table>\n",
       "</div>"
      ],
      "text/plain": [
       "   id     Name  Gender  Age Section  Science  English  History  Maths\n",
       "0   1  Bronnie  Female   13       C       21       81       62     49\n",
       "1   2   Lemmie    Male   15       B       29       41       17     40\n",
       "2   3    Danya  Female   14       C       12       87       16     96\n",
       "3   4    Denna  Female   14       B       15       53       82     33\n",
       "4   5  Jocelin    Male   14       A       43        6        3     21"
      ]
     },
     "execution_count": 3,
     "metadata": {},
     "output_type": "execute_result"
    }
   ],
   "source": [
    "gradebk = pd.read_csv(\"C:/Users/dhristipala/Desktop/Internships/virtual internship/marksheet.csv\")\n",
    "gradebk.head()"
   ]
  },
  {
   "cell_type": "code",
   "execution_count": 4,
   "id": "15e97273",
   "metadata": {},
   "outputs": [],
   "source": [
    "# Calculate total marks\n",
    "gradebk['total_marks'] = gradebk['Maths'] + gradebk['Science'] + gradebk['English'] + gradebk['History']"
   ]
  },
  {
   "cell_type": "code",
   "execution_count": 5,
   "id": "07e7d294",
   "metadata": {},
   "outputs": [],
   "source": [
    "# Function to convert total marks to grade\n",
    "def marks_to_grade(total_marks):\n",
    "    if total_marks >= 270:\n",
    "        return 'A'\n",
    "    elif total_marks >= 240:\n",
    "        return 'B'\n",
    "    elif total_marks >= 210:\n",
    "        return 'C'\n",
    "    elif total_marks >= 180:\n",
    "        return 'D'\n",
    "    else:\n",
    "        return 'F'"
   ]
  },
  {
   "cell_type": "code",
   "execution_count": 6,
   "id": "bc485735",
   "metadata": {},
   "outputs": [],
   "source": [
    "# Apply the function to convert total marks to grade\n",
    "gradebk['grade'] = gradebk['total_marks'].apply(marks_to_grade)"
   ]
  },
  {
   "cell_type": "code",
   "execution_count": 9,
   "id": "4e787c84",
   "metadata": {},
   "outputs": [
    {
     "name": "stdout",
     "output_type": "stream",
     "text": [
      "Gradebook:\n",
      "      id      Name  Age Section  total_marks grade\n",
      "0      1   Bronnie   13       C          213     C\n",
      "1      2    Lemmie   15       B          127     F\n",
      "2      3     Danya   14       C          211     C\n",
      "3      4     Denna   14       B          183     D\n",
      "4      5   Jocelin   14       A           73     F\n",
      "..   ...       ...  ...     ...          ...   ...\n",
      "245  246    Nickie   13       C           78     F\n",
      "246  247       Rog   13       B          138     F\n",
      "247  248      Kaia   15       B          267     B\n",
      "248  249      Anni   14       B          233     C\n",
      "249  250  Fernande   15       B          216     C\n",
      "\n",
      "[250 rows x 6 columns]\n"
     ]
    }
   ],
   "source": [
    "# Display the gradebook\n",
    "print(\"Gradebook:\")\n",
    "print(gradebk[['id', 'Name', 'Age', 'Section', 'total_marks', 'grade']])"
   ]
  },
  {
   "cell_type": "code",
   "execution_count": 10,
   "id": "37383134",
   "metadata": {},
   "outputs": [],
   "source": [
    "# Save the gradebook to a new CSV file\n",
    "gradebk.to_csv('gradebook.csv', index=False)"
   ]
  }
 ],
 "metadata": {
  "kernelspec": {
   "display_name": "Python 3 (ipykernel)",
   "language": "python",
   "name": "python3"
  },
  "language_info": {
   "codemirror_mode": {
    "name": "ipython",
    "version": 3
   },
   "file_extension": ".py",
   "mimetype": "text/x-python",
   "name": "python",
   "nbconvert_exporter": "python",
   "pygments_lexer": "ipython3",
   "version": "3.9.13"
  }
 },
 "nbformat": 4,
 "nbformat_minor": 5
}
